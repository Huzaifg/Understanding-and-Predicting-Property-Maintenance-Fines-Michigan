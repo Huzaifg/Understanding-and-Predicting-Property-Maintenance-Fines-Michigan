{
 "cells": [
  {
   "cell_type": "code",
   "execution_count": null,
   "metadata": {},
   "outputs": [],
   "source": [
    "import pandas as pd\n",
    "import numpy as np\n",
    "from sklearn.preprocessing import StandardScaler\n",
    "from sklearn.model_selection import GridSearchCV\n",
    "from sklearn.tree import DecisionTreeClassifier\n",
    "from sklearn.neighbors import KNeighborsClassifier\n",
    "from sklearn.svm import SVC\n",
    "from sklearn.ensemble import RandomForestClassifier,GradientBoostingClassifier\n",
    "\n",
    "df = pd.read_csv('train.csv',encoding = 'ISO-8859-1')\n",
    "# Features I feel are important \n",
    "df = df[['agency_name', 'zip_code', 'violation_code', 'disposition',\n",
    "       'judgment_amount', 'compliance']]\n",
    "\n",
    "df.dropna(axis=0,how='any',inplace=True)\n",
    "\n",
    "# Creating categorical labels\n",
    "df['agency_name'] = pd.Categorical(df['agency_name'])\n",
    "df['agency_name_d'] = df['agency_name'].cat.codes + 1\n",
    "\n",
    "df['zip_code'] = pd.Categorical(df['zip_code'])\n",
    "df['zip_code_d'] = df['zip_code'].cat.codes + 1 \n",
    "\n",
    "df['violation_code'] = pd.Categorical(df['violation_code'])\n",
    "df['violation_code_d'] = df['violation_code'].cat.codes + 1\n",
    "\n",
    "df['disposition'] = pd.Categorical(df['disposition'])\n",
    "df['disposition_d'] = df['disposition'].cat.codes + 1\n",
    "#To keep only processed columns\n",
    "df = df.drop(axis = 1, \n",
    "             labels = ['agency_name','zip_code','violation_code','disposition'])\n",
    "\n",
    "X = df.drop(axis=1,labels = ['compliance'])\n",
    "y = df['compliance']\n"
   ]
  },
  {
   "cell_type": "code",
   "execution_count": null,
   "metadata": {},
   "outputs": [],
   "source": [
    "# Do not run all at once\n",
    "\n",
    "model_param = {\n",
    "    'DecisionTreeClassifier':{\n",
    "        'model' : DecisionTreeClassifier(),\n",
    "        'param' :{ \n",
    "            'criterion' : ['gini', 'entropy']\n",
    "            }\n",
    "        }\n",
    "    'KNeighborsClassifier':{\n",
    "        'model' : KNeighborsClassifier(),\n",
    "        'param' :{\n",
    "            'n_neighbors': [25,30,35,40]\n",
    "            }\n",
    "        }\n",
    "    'SVC' :{\n",
    "        'model' : SVC(),\n",
    "        'param' :{\n",
    "            'kernel' : ['rbf','linear','sigmoid'],\n",
    "            'C' : [0.1,1,10,100]\n",
    "            }\n",
    "        }\n",
    "    'RandomForestClassifier':{\n",
    "        'model' : RandomForestClassifier(n_jobs=-1,criterion = 'gini'),\n",
    "        'param' :{\n",
    "            'max_features' : ['auto','sqrt','log2']\n",
    "            }\n",
    "        }\n",
    "    'GradientBoostingClassifier':{\n",
    "        'model' : GradientBoostingClassifier(learning_rate = 0.1),\n",
    "        'param' : {\n",
    "\n",
    "            'n_estimators'  : [10000]\n",
    "            }\n",
    "        }\n",
    "    }"
   ]
  },
  {
   "cell_type": "code",
   "execution_count": null,
   "metadata": {},
   "outputs": [],
   "source": [
    "#Running Grid Search\n",
    "\n",
    "scores = []\n",
    "for model_name,mp in model_param.items():\n",
    "    model_selection = GridSearchCV(estimator = mp['model'],\n",
    "                                  param_grid = mp['param'],\n",
    "                                  cv=5,scoring = 'roc_auc')\n",
    "    model_selection.fit(X,y)\n",
    "    scores.append({'model' : model_name,\n",
    "                   'best_score' : model_selection.best_score_,\n",
    "                   'best_params' : model_selection.best_params_\n",
    "                  })\n"
   ]
  },
  {
   "cell_type": "code",
   "execution_count": null,
   "metadata": {},
   "outputs": [],
   "source": [
    "#Visualising results\n",
    "df_model_score = pd.DataFrame(scores,\n",
    "                              columns = ['model',\n",
    "                                        'best_score',\n",
    "                                        'best_params'])\n",
    "df_model_score"
   ]
  }
 ],
 "metadata": {
  "kernelspec": {
   "display_name": "Python 3",
   "language": "python",
   "name": "python3"
  },
  "language_info": {
   "codemirror_mode": {
    "name": "ipython",
    "version": 3
   },
   "file_extension": ".py",
   "mimetype": "text/x-python",
   "name": "python",
   "nbconvert_exporter": "python",
   "pygments_lexer": "ipython3",
   "version": "3.7.7"
  }
 },
 "nbformat": 4,
 "nbformat_minor": 4
}
